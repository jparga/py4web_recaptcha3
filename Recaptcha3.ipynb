{
 "cells": [
  {
   "attachments": {},
   "cell_type": "markdown",
   "metadata": {},
   "source": [
    "Procedimiento para hacer Recaptcha V3 \n",
    "con py4web.\n",
    "La información está disponible en \n",
    "https://developers.google.com/recaptcha/docs/v3"
   ]
  },
  {
   "cell_type": "code",
   "execution_count": null,
   "metadata": {},
   "outputs": [
    {
     "ename": "",
     "evalue": "",
     "output_type": "error",
     "traceback": [
      "\u001b[1;31mNo se puede iniciar Jupyter. Error al intentar buscar Jupyter: Seleccionar un intérprete para iniciar Jupyter\n",
      "\u001b[1;31mEjecute el siguiente comando para instalar 'jupyter y notebook' en el entorno de Python. comando \n",
      "\u001b[1;31m: 'python -m pip install jupyter notebook -U\n",
      "\u001b[1;31mor\n",
      "\u001b[1;31mconda install jupyter notebook -U'\n",
      "\u001b[1;31mHaga clic <a href='https://aka.ms/installJupyterForVSCode'>aquí</a> para obtener más información."
     ]
    }
   ],
   "source": [
    "import json\n",
    "import requests\n",
    "from py4web import request\n",
    "\n",
    "\n",
    "class Recaptcha3:\n",
    "    \n",
    "# Estos valores se importarán de settings_private.py en cada aplicación\n",
    "    GOOGLE_RECAPTCHA_SITE_KEY =\" \"\n",
    "    GOOGLE_RECAPTCHA_SECRET_KEY = \" \"\n",
    "    \n",
    "    API_URI = 'https://www.google.com/recaptcha/api.js'\n",
    "    VERIFY_SERVER = 'https://www.google.com/recaptcha/api/siteverify'\n",
    "    \n",
    "    def __init__(self,\n",
    "                 request=None,\n",
    "                 public_key='',\n",
    "                 private_key='',\n",
    "                 error_message='invalid',\n",
    "                 label='Verify:',\n",
    "                 options=None,\n",
    "                 comment='',\n",
    "                 ):\n",
    "        request = request\n",
    "        self.request_vars = request and request.get(vars)\n",
    "        self.remote_addr = request.environ['REMOTE_ADDR']\n",
    "        self.public_key = public_key\n",
    "        self.private_key = private_key\n",
    "        self.errors = dict()\n",
    "        self.error_message = error_message\n",
    "        self.components = []\n",
    "        self.attributes = {}\n",
    "        self.label = label\n",
    "        self.options = options or {}\n",
    "        self.comment = comment\n",
    "        \n",
    "        def _validate(self):\n",
    "            recaptcha_response = request.POST.get(\"g-recaptcha-response\")\n",
    "            data = {\"secret\": self.private_key, \"response\": recaptcha_response}\n",
    "            r = requests.post(\"https://www.google.com/recaptcha/api/siteverify\", data=data)\n",
    "            result = r.json()\n",
    "            print (result)"
   ]
  }
 ],
 "metadata": {
  "kernelspec": {
   "display_name": "py4env",
   "language": "python",
   "name": "py4env"
  },
  "language_info": {
   "name": "python",
   "version": "3.10.6 (main, Nov 14 2022, 16:10:14) [GCC 11.3.0]"
  },
  "orig_nbformat": 4,
  "vscode": {
   "interpreter": {
    "hash": "916dbcbb3f70747c44a77c7bcd40155683ae19c65e1c03b4aa3499c5328201f1"
   }
  }
 },
 "nbformat": 4,
 "nbformat_minor": 2
}
